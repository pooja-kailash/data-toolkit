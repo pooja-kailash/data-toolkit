{
  "nbformat": 4,
  "nbformat_minor": 0,
  "metadata": {
    "colab": {
      "provenance": []
    },
    "kernelspec": {
      "name": "python3",
      "display_name": "Python 3"
    },
    "language_info": {
      "name": "python"
    }
  },
  "cells": [
    {
      "cell_type": "markdown",
      "source": [
        "# Q.1. What is NumPy, and why is it widely used in Python?\n",
        "\n",
        "Ans\n",
        "\n",
        "NumPy (Numerical Python) is a fundamental library for scientific computing in Python, providing support for large, multi-dimensional arrays and matrices, along with a collection of high-level mathematical functions to operate on these arrays. It's widely used due to its efficiency (implemented in C for performance), powerful array object (ndarray) for numerical operations, and its role as the foundation for many other data science libraries like Pandas and SciPy."
      ],
      "metadata": {
        "id": "54hf-vk1NLWN"
      }
    },
    {
      "cell_type": "markdown",
      "source": [
        "# Q.2. How does broadcasting work in NumPy?\n",
        "\n",
        "Ans\n",
        "\n",
        "Broadcasting is a mechanism in NumPy that allows arithmetic operations on arrays of different shapes and sizes without explicitly creating multiple copies of values to match dimensions. It works by stretching smaller arrays across larger ones to make their shapes compatible, following a set of rules (e.g., dimensions are compared from trailing end, dimensions of size 1 can be stretched).\n"
      ],
      "metadata": {
        "id": "qfot-7s9NLZB"
      }
    },
    {
      "cell_type": "markdown",
      "source": [
        "# Q.3. What is a Pandas DataFrame?\n",
        "\n",
        "Ans\n",
        "\n",
        "A Pandas DataFrame is a two-dimensional, size-mutable, and potentially heterogeneous tabular data structure with labeled axes (rows and columns). It's essentially a table-like structure where each column can be of a different data type, making it highly versatile for storing and manipulating structured data.\n",
        "\n"
      ],
      "metadata": {
        "id": "QsCUDwBINLb8"
      }
    },
    {
      "cell_type": "markdown",
      "source": [
        "# Q.4. Explain the use of the groupby() method in Pandas\n",
        "\n",
        "Ans\n",
        "\n",
        "The groupby() method in Pandas is used to group rows of a DataFrame based on one or more column values to perform aggregate operations. It allows for splitting data into groups, applying a function to each group (e.g., sum, mean, count), and then combining the results back into a single structure."
      ],
      "metadata": {
        "id": "Qg9_TZRaNLey"
      }
    },
    {
      "cell_type": "markdown",
      "source": [
        "# Q.5.Why is Seaborn preferred for statistical visualizations?\n",
        "\n",
        "Ans\n",
        "\n",
        "Seaborn is preferred for statistical visualizations because it provides a high-level interface for drawing attractive and informative statistical graphics. It integrates well with Pandas DataFrames, offers built-in themes and color palettes, and excels at visualizing relationships between multiple variables, making complex statistical plots easier to create than with Matplotlib alone.\n",
        "\n"
      ],
      "metadata": {
        "id": "GPTon1XkNLiY"
      }
    },
    {
      "cell_type": "markdown",
      "source": [
        "# Q.6.What are the differences between NumPy arrays and Python lists?\n",
        "\n",
        "Ans\n",
        "\n",
        "    Data Type:\n",
        " NumPy arrays are homogeneous (all elements must be of the same data type), while Python lists are heterogeneous (can store elements of different data types).\n",
        "\n",
        "    Performance:\n",
        "NumPy arrays are significantly faster for numerical operations due to their C implementation and contiguous memory allocation.\n",
        "\n",
        "    Memory Usage:\n",
        " NumPy arrays are more memory-efficient than Python lists for large numerical datasets.\n",
        "\n",
        "    Functionality:\n",
        " NumPy arrays offer vectorized operations and a wide range of mathematical functions not available directly with Python lists.\n"
      ],
      "metadata": {
        "id": "v-9x-uDyOX1m"
      }
    },
    {
      "cell_type": "markdown",
      "source": [
        "# Q.7. What is a heatmap, and when should it be used?\n",
        "\n",
        "Ans\n",
        "\n",
        "A heatmap is a graphical representation of data where individual values are represented as colors in a matrix. It should be used to visualize the magnitude of values in a 2D matrix, often for showing correlations between variables or patterns in large datasets, where color intensity indicates the value.\n"
      ],
      "metadata": {
        "id": "nPoV6nfPO1LA"
      }
    },
    {
      "cell_type": "markdown",
      "source": [
        "# Q.8. What does the term “vectorized operation” mean in NumPy?\n",
        "\n",
        "Ans\n",
        "\n",
        "A \"vectorized operation\" in NumPy refers to performing operations on entire arrays at once, rather than iterating through individual elements using Python loops. This leverage optimized C code underneath, leading to much faster execution and more concise code.\n"
      ],
      "metadata": {
        "id": "emjdTYDRPA3o"
      }
    },
    {
      "cell_type": "markdown",
      "source": [
        "# Q.9.How does Matplotlib differ from Plotly?\n",
        "\n",
        "Ans\n",
        "\n",
        "    Interactivity:\n",
        " Plotly specializes in interactive and web-based visualizations, allowing zooming, panning, and tooltips, while Matplotlib primarily creates static plots.\n",
        "\n",
        "    Output Format:\n",
        " Plotly can easily generate HTML files for web deployment, while Matplotlib is more geared towards image files and PDF.\n",
        "\n",
        "    Syntax:\n",
        " Matplotlib often requires more verbose code for customization, while Plotly's syntax can be more straightforward for certain interactive features.\n"
      ],
      "metadata": {
        "id": "vOJfxOvGPMF2"
      }
    },
    {
      "cell_type": "markdown",
      "source": [
        "# Q.10.What is the significance of hierarchical indexing in Pandas?\n",
        "\n",
        "Ans\n",
        "\n",
        "Hierarchical indexing (MultiIndex) in Pandas allows you to have multiple levels of indexes on an axis (rows or columns). Its significance lies in enabling the representation and manipulation of higher-dimensional data in a lower-dimensional (2D) structure like a DataFrame, facilitating complex data selection and reshaping.\n"
      ],
      "metadata": {
        "id": "HQh4ul-fPpRE"
      }
    },
    {
      "cell_type": "markdown",
      "source": [
        "# Q.11. What is the role of Seaborn’s pairplot() function?\n",
        "\n",
        "Ans\n",
        "\n",
        "Seaborn's pairplot() function creates a grid of scatterplots for pairwise relationships between variables in a DataFrame, and a histogram or kernel density estimate for each variable on the diagonal. Its role is to quickly explore distributions and relationships within a dataset, especially for identifying potential correlations or patterns.\n"
      ],
      "metadata": {
        "id": "PYt5990PP3wm"
      }
    },
    {
      "cell_type": "markdown",
      "source": [
        "# Q.12. What is the purpose of the describe() function in Pandas?\n",
        "\n",
        "Ans\n",
        "\n",
        "The describe() function in Pandas generates descriptive statistics of a DataFrame or Series, including count, mean, standard deviation, min, max, and quartiles (25%, 50%, 75%). Its purpose is to provide a quick summary of the central tendency, dispersion, and shape of the distribution of numerical data.\n"
      ],
      "metadata": {
        "id": "M41056pjQC3L"
      }
    },
    {
      "cell_type": "markdown",
      "source": [
        "# Q.13. Why is handling missing data important in Pandas?\n",
        "\n",
        "Ans\n",
        "\n",
        "Handling missing data is crucial in Pandas because missing values (NaN) can lead to incorrect analysis results, errors in calculations, and can impact the performance of machine learning models. Proper handling (e.g., imputation, deletion) ensures data integrity and reliable insights.\n"
      ],
      "metadata": {
        "id": "NxoHpT3DQP_M"
      }
    },
    {
      "cell_type": "markdown",
      "source": [
        "# Q.14.What are the benefits of using Plotly for data visualization?\n",
        "\n",
        "Ans\n",
        "\n",
        "Benefits of using Plotly include: Interactive visualizations for better data exploration, web-based output for easy sharing and integration into dashboards, support for a wide range of chart types, and cross-language compatibility (Python, R, JavaScript).\n"
      ],
      "metadata": {
        "id": "JTR0w0RvQY0_"
      }
    },
    {
      "cell_type": "markdown",
      "source": [
        "# Q.15. How does NumPy handle multidimensional arrays?\n",
        "\n",
        "Ans\n",
        "\n",
        "NumPy handles multidimensional arrays by using its ndarray object, which can represent arrays of any number of dimensions (e.g., 1D vectors, 2D matrices, 3D tensors). It provides efficient operations and indexing for manipulating data across these dimensions.\n"
      ],
      "metadata": {
        "id": "mwH9lRg7QkqK"
      }
    },
    {
      "cell_type": "markdown",
      "source": [
        "# Q.16. What is the role of Bokeh in data visualization?\n",
        "\n",
        "Ans\n",
        "\n",
        "Bokeh is a Python library for creating interactive web visualizations. Its role is to enable the creation of highly customizable and interactive plots and dashboards that can be directly embedded in web applications or served as standalone HTML files.\n"
      ],
      "metadata": {
        "id": "hzHv487nQwLE"
      }
    },
    {
      "cell_type": "markdown",
      "source": [
        "# Q.17. Explain the difference between apply() and map() in Pandas\n",
        "\n",
        "Ans\n",
        "\n",
        "    apply():\n",
        "Used to apply a function along an axis of a DataFrame or Series (row-wise or column-wise). It's more general and can operate on multiple columns/rows at once.\n",
        "\n",
        "    map():\n",
        " Primarily used with a Series to map values from one set to another using a dictionary or a function. It operates element-wise on a single Series.\n"
      ],
      "metadata": {
        "id": "2POXfGUaQ5uZ"
      }
    },
    {
      "cell_type": "markdown",
      "source": [
        "# Q.18.What are some advanced features of NumPy?\n",
        "\n",
        "Ans\n",
        "\n",
        "Advanced features of NumPy include: Universal Functions (ufuncs) for element-wise operations, broadcasting, fancy indexing and boolean indexing for complex data selection, memory-mapping for large arrays, and integration with C/C++/Fortran code.\n"
      ],
      "metadata": {
        "id": "w0yEA6ZlRQwx"
      }
    },
    {
      "cell_type": "markdown",
      "source": [
        "# Q.19. How does Pandas simplify time series analysis?\n",
        "\n",
        "Ans\n",
        "\n",
        "Pandas simplifies time series analysis by providing specialized data structures like DatetimeIndex, powerful time-based indexing and selection, functions for resampling, shifting, and rolling window operations, and convenient methods for handling time zone information.\n"
      ],
      "metadata": {
        "id": "3fmFqJLPRjmu"
      }
    },
    {
      "cell_type": "markdown",
      "source": [
        "# Q.20.What is the role of a pivot table in Pandas?\n",
        "\n",
        "Ans  \n",
        "\n",
        "A pivot table in Pandas is used to summarize and reorganize data from a DataFrame by aggregating values based on one or more key columns. It allows for creating cross-tabulations and viewing data from different perspectives, similar to pivot tables in spreadsheet software.\n"
      ],
      "metadata": {
        "id": "-FVqSgIbR032"
      }
    },
    {
      "cell_type": "markdown",
      "source": [
        "# Q.21. Why is NumPy’s array slicing faster than Python’s list slicing?\n",
        "\n",
        "Ans\n",
        "\n",
        "NumPy's array slicing is faster because it creates views of the original array (zero-copy operation) instead of creating new copies of data, as Python list slicing does. This reduces memory allocation and copy operations, leading to significant performance gains for large arrays.\n"
      ],
      "metadata": {
        "id": "VSDDEmV4SE3w"
      }
    },
    {
      "cell_type": "markdown",
      "source": [
        "# Q.22. What are some common use cases for Seaborn?\n",
        "\n",
        "Ans\n",
        "\n",
        "Common use cases for Seaborn include: Creating statistical plots like scatter plots, line plots, bar plots, box plots, violin plots, and heatmaps; visualizing distributions of data; exploring relationships between variables; and presenting statistical insights in an aesthetically pleasing manner."
      ],
      "metadata": {
        "id": "1C4DEHCfSOTb"
      }
    },
    {
      "cell_type": "markdown",
      "source": [
        "# PRACTICAL"
      ],
      "metadata": {
        "id": "0RdoNBciSaSs"
      }
    },
    {
      "cell_type": "markdown",
      "source": [
        "Q.1\n",
        "\n",
        "Ans"
      ],
      "metadata": {
        "id": "rFwE8o6KSaPU"
      }
    },
    {
      "cell_type": "code",
      "source": [
        "# Step 1: Import NumPy\n",
        "import numpy as np\n",
        "\n",
        "# Step 2: Create a 2D NumPy array\n",
        "array = np.array([[1, 2, 3],\n",
        "                  [4, 5, 6],\n",
        "                  [7, 8, 9]])\n",
        "\n",
        "# Step 3: Calculate the sum of each row\n",
        "row_sums = np.sum(array, axis=1)\n",
        "\n",
        "# Step 4: Print the result\n",
        "print(\"2D Array:\")\n",
        "print(array)\n",
        "print(\"Sum of each row:\")\n",
        "print(row_sums)\n"
      ],
      "metadata": {
        "colab": {
          "base_uri": "https://localhost:8080/"
        },
        "id": "VvoWwtU2SY-t",
        "outputId": "c41897f6-e2e1-4508-ccad-c21ecf1ee3c2"
      },
      "execution_count": 1,
      "outputs": [
        {
          "output_type": "stream",
          "name": "stdout",
          "text": [
            "2D Array:\n",
            "[[1 2 3]\n",
            " [4 5 6]\n",
            " [7 8 9]]\n",
            "Sum of each row:\n",
            "[ 6 15 24]\n"
          ]
        }
      ]
    },
    {
      "cell_type": "markdown",
      "source": [
        "Q.2\n",
        "\n",
        "Ans\n",
        "\n"
      ],
      "metadata": {
        "id": "aNcGy88-UYQL"
      }
    },
    {
      "cell_type": "code",
      "source": [
        "# Step 1: Import pandas\n",
        "import pandas as pd\n",
        "\n",
        "# Step 2: Create a sample DataFrame\n",
        "data = {\n",
        "    'Name': ['pooja', 'sourav', 'bhakti', 'soumya'],\n",
        "    'Age': [25, 30, 35, 40],\n",
        "    'Salary': [50000, 60000, 70000, 80000]\n",
        "}\n",
        "\n",
        "df = pd.DataFrame(data)\n",
        "\n",
        "# Step 3: Calculate the mean of the 'Salary' column\n",
        "mean_salary = df['Salary'].mean()\n",
        "\n",
        "# Step 4: Print DataFrame and the mean\n",
        "print(\"DataFrame:\")\n",
        "print(df)\n",
        "print(\"\\nMean of 'Salary' column:\", mean_salary)\n"
      ],
      "metadata": {
        "colab": {
          "base_uri": "https://localhost:8080/"
        },
        "id": "70poNRMlUSmc",
        "outputId": "813ed5e8-110f-4e64-a597-72d36d8e709e"
      },
      "execution_count": 3,
      "outputs": [
        {
          "output_type": "stream",
          "name": "stdout",
          "text": [
            "DataFrame:\n",
            "     Name  Age  Salary\n",
            "0   pooja   25   50000\n",
            "1  sourav   30   60000\n",
            "2  bhakti   35   70000\n",
            "3  soumya   40   80000\n",
            "\n",
            "Mean of 'Salary' column: 65000.0\n"
          ]
        }
      ]
    },
    {
      "cell_type": "markdown",
      "source": [
        "Q.3.\n",
        "\n",
        "Ans\n"
      ],
      "metadata": {
        "id": "kw5CsD1YU-zs"
      }
    },
    {
      "cell_type": "code",
      "source": [
        "# Step 1: Import required libraries\n",
        "import matplotlib.pyplot as plt\n",
        "\n",
        "# Step 2: Define sample data for x and y\n",
        "x = [10, 20, 30, 40, 50]\n",
        "y = [15, 25, 35, 45, 60]\n",
        "\n",
        "# Step 3: Create a scatter plot\n",
        "plt.figure(figsize=(8, 5))\n",
        "plt.scatter(x, y, color='blue', marker='o')\n",
        "\n",
        "# Step 4: Add labels and title\n",
        "plt.title('Sample Scatter Plot')\n",
        "plt.xlabel('X-axis')\n",
        "plt.ylabel('Y-axis')\n",
        "\n",
        "# Step 5: Display the plot\n",
        "plt.grid(True)\n",
        "plt.show()\n"
      ],
      "metadata": {
        "colab": {
          "base_uri": "https://localhost:8080/",
          "height": 487
        },
        "id": "2Eyt4O5HUu46",
        "outputId": "aeb4c8ef-d4c9-4359-f4f7-16885d38b7de"
      },
      "execution_count": 4,
      "outputs": [
        {
          "output_type": "display_data",
          "data": {
            "text/plain": [
              "<Figure size 800x500 with 1 Axes>"
            ],
            "image/png": "[encoded data removed]"
          },
          "metadata": {}
        }
      ]
    },
    {
      "cell_type": "markdown",
      "source": [
        "Q.4\n",
        "\n",
        "Ans\n"
      ],
      "metadata": {
        "id": "fB_yHPvdVbt2"
      }
    },
    {
      "cell_type": "code",
      "source": [
        "# Step 1: Import required libraries\n",
        "import pandas as pd\n",
        "import seaborn as sns\n",
        "import matplotlib.pyplot as plt\n",
        "\n",
        "# Step 2: Create a sample DataFrame\n",
        "data = {\n",
        "    'Math': [85, 90, 78, 92, 88],\n",
        "    'Science': [80, 85, 75, 95, 89],\n",
        "    'English': [78, 83, 88, 85, 90],\n",
        "    'History': [70, 75, 80, 85, 90]\n",
        "}\n",
        "\n",
        "df = pd.DataFrame(data)\n",
        "\n",
        "# Step 3: Calculate the correlation matrix\n",
        "correlation_matrix = df.corr()\n",
        "\n",
        "# Step 4: Visualize with Seaborn heatmap\n",
        "plt.figure(figsize=(8, 6))\n",
        "sns.heatmap(correlation_matrix, annot=True, cmap='coolwarm', linewidths=0.5)\n",
        "\n",
        "# Step 5: Show plot\n",
        "plt.title('Correlation Matrix Heatmap')\n",
        "plt.show()\n"
      ],
      "metadata": {
        "colab": {
          "base_uri": "https://localhost:8080/",
          "height": 545
        },
        "id": "KW8xbzi4VQw2",
        "outputId": "53a28a07-cb2f-49dd-fd3a-b27ae0de716c"
      },
      "execution_count": 5,
      "outputs": [
        {
          "output_type": "display_data",
          "data": {
            "text/plain": [
              "<Figure size 800x600 with 2 Axes>"
            ],
            "image/png": "[encoded data removed]"
          },
          "metadata": {}
        }
      ]
    },
    {
      "cell_type": "markdown",
      "source": [
        "Q.5.\n",
        "\n",
        "Ans\n"
      ],
      "metadata": {
        "id": "IyXQcgsJVykR"
      }
    },
    {
      "cell_type": "code",
      "source": [
        "# Step 1: Install plotly (only needed once in Colab)\n",
        "!pip install plotly\n",
        "\n",
        "# Step 2: Import plotly\n",
        "import plotly.express as px\n",
        "\n",
        "# Step 3: Create sample data\n",
        "data = {\n",
        "    'Category': ['Apples', 'Bananas', 'Cherries', 'Dates'],\n",
        "    'Sales': [120, 150, 90, 60]\n",
        "}\n",
        "\n",
        "# Step 4: Create DataFrame\n",
        "import pandas as pd\n",
        "df = pd.DataFrame(data)\n",
        "\n",
        "# Step 5: Create bar plot\n",
        "fig = px.bar(df, x='Category', y='Sales', title='Fruit Sales', color='Category')\n",
        "\n",
        "# Step 6: Show plot\n",
        "fig.show()\n"
      ],
      "metadata": {
        "colab": {
          "base_uri": "https://localhost:8080/",
          "height": 594
        },
        "id": "0KaFfCglVnjZ",
        "outputId": "0c355ef8-3996-4bb3-ec09-e246b4a09dda"
      },
      "execution_count": 6,
      "outputs": [
        {
          "output_type": "stream",
          "name": "stdout",
          "text": [
            "Requirement already satisfied: plotly in /usr/local/lib/python3.12/dist-packages (5.24.1)\n",
            "Requirement already satisfied: tenacity>=6.2.0 in /usr/local/lib/python3.12/dist-packages (from plotly) (9.1.2)\n",
            "Requirement already satisfied: packaging in /usr/local/lib/python3.12/dist-packages (from plotly) (25.0)\n"
          ]
        },
        {
          "output_type": "display_data",
          "data": {
            "text/html": [
              "<html>\n",
              "<head><meta charset=\"utf-8\" /></head>\n",
              "<body>\n",
              "    <div>            <script src=\"https://cdnjs.cloudflare.com/ajax/libs/mathjax/2.7.5/MathJax.js?config=TeX-AMS-MML_SVG\"></script><script type=\"text/javascript\">if (window.MathJax && window.MathJax.Hub && window.MathJax.Hub.Config) {window.MathJax.Hub.Config({SVG: {font: \"STIX-Web\"}});}</script>                <script type=\"text/javascript\">window.PlotlyConfig = {MathJaxConfig: 'local'};</script>\n",
              "        <script charset=\"utf-8\" src=\"https://cdn.plot.ly/plotly-2.35.2.min.js\"></script>                <div id=\"a394440b-4455-4751-b651-112ef173631a\" class=\"plotly-graph-div\" style=\"height:525px; width:100%;\"></div>            <script type=\"text/javascript\">                                    window.PLOTLYENV=window.PLOTLYENV || {};                                    if (document.getElementById(\"a394440b-4455-4751-b651-112ef173631a\")) {                    Plotly.newPlot(                        \"a394440b-4455-4751-b651-112ef173631a\",                        [{\"alignmentgroup\":\"True\",\"hovertemplate\":\"Category=%{x}\\u003cbr\\u003eSales=%{y}\\u003cextra\\u003e\\u003c\\u002fextra\\u003e\",\"legendgroup\":\"Apples\",\"marker\":{\"color\":\"#636efa\",\"pattern\":{\"shape\":\"\"}},\"name\":\"Apples\",\"offsetgroup\":\"Apples\",\"orientation\":\"v\",\"showlegend\":true,\"textposition\":\"auto\",\"x\":[\"Apples\"],\"xaxis\":\"x\",\"y\":[120],\"yaxis\":\"y\",\"type\":\"bar\"},{\"alignmentgroup\":\"True\",\"hovertemplate\":\"Category=%{x}\\u003cbr\\u003eSales=%{y}\\u003cextra\\u003e\\u003c\\u002fextra\\u003e\",\"legendgroup\":\"Bananas\",\"marker\":{\"color\":\"#EF553B\",\"pattern\":{\"shape\":\"\"}},\"name\":\"Bananas\",\"offsetgroup\":\"Bananas\",\"orientation\":\"v\",\"showlegend\":true,\"textposition\":\"auto\",\"x\":[\"Bananas\"],\"xaxis\":\"x\",\"y\":[150],\"yaxis\":\"y\",\"type\":\"bar\"},{\"alignmentgroup\":\"True\",\"hovertemplate\":\"Category=%{x}\\u003cbr\\u003eSales=%{y}\\u003cextra\\u003e\\u003c\\u002fextra\\u003e\",\"legendgroup\":\"Cherries\",\"marker\":{\"color\":\"#00cc96\",\"pattern\":{\"shape\":\"\"}},\"name\":\"Cherries\",\"offsetgroup\":\"Cherries\",\"orientation\":\"v\",\"showlegend\":true,\"textposition\":\"auto\",\"x\":[\"Cherries\"],\"xaxis\":\"x\",\"y\":[90],\"yaxis\":\"y\",\"type\":\"bar\"},{\"alignmentgroup\":\"True\",\"hovertemplate\":\"Category=%{x}\\u003cbr\\u003eSales=%{y}\\u003cextra\\u003e\\u003c\\u002fextra\\u003e\",\"legendgroup\":\"Dates\",\"marker\":{\"color\":\"#ab63fa\",\"pattern\":{\"shape\":\"\"}},\"name\":\"Dates\",\"offsetgroup\":\"Dates\",\"orientation\":\"v\",\"showlegend\":true,\"textposition\":\"auto\",\"x\":[\"Dates\"],\"xaxis\":\"x\",\"y\":[60],\"yaxis\":\"y\",\"type\":\"bar\"}],                        {\"template\":{\"data\":{\"histogram2dcontour\":[{\"type\":\"histogram2dcontour\",\"colorbar\":{\"outlinewidth\":0,\"ticks\":\"\"},\"colorscale\":[[0.0,\"#0d0887\"],[0.1111111111111111,\"#46039f\"],[0.2222222222222222,\"#7201a8\"],[0.3333333333333333,\"#9c179e\"],[0.4444444444444444,\"#bd3786\"],[0.5555555555555556,\"#d8576b\"],[0.6666666666666666,\"#ed7953\"],[0.7777777777777778,\"#fb9f3a\"],[0.8888888888888888,\"#fdca26\"],[1.0,\"#f0f921\"]]}],\"choropleth\":[{\"type\":\"choropleth\",\"colorbar\":{\"outlinewidth\":0,\"ticks\":\"\"}}],\"histogram2d\":[{\"type\":\"histogram2d\",\"colorbar\":{\"outlinewidth\":0,\"ticks\":\"\"},\"colorscale\":[[0.0,\"#0d0887\"],[0.1111111111111111,\"#46039f\"],[0.2222222222222222,\"#7201a8\"],[0.3333333333333333,\"#9c179e\"],[0.4444444444444444,\"#bd3786\"],[0.5555555555555556,\"#d8576b\"],[0.6666666666666666,\"#ed7953\"],[0.7777777777777778,\"#fb9f3a\"],[0.8888888888888888,\"#fdca26\"],[1.0,\"#f0f921\"]]}],\"heatmap\":[{\"type\":\"heatmap\",\"colorbar\":{\"outlinewidth\":0,\"ticks\":\"\"},\"colorscale\":[[0.0,\"#0d0887\"],[0.1111111111111111,\"#46039f\"],[0.2222222222222222,\"#7201a8\"],[0.3333333333333333,\"#9c179e\"],[0.4444444444444444,\"#bd3786\"],[0.5555555555555556,\"#d8576b\"],[0.6666666666666666,\"#ed7953\"],[0.7777777777777778,\"#fb9f3a\"],[0.8888888888888888,\"#fdca26\"],[1.0,\"#f0f921\"]]}],\"heatmapgl\":[{\"type\":\"heatmapgl\",\"colorbar\":{\"outlinewidth\":0,\"ticks\":\"\"},\"colorscale\":[[0.0,\"#0d0887\"],[0.1111111111111111,\"#46039f\"],[0.2222222222222222,\"#7201a8\"],[0.3333333333333333,\"#9c179e\"],[0.4444444444444444,\"#bd3786\"],[0.5555555555555556,\"#d8576b\"],[0.6666666666666666,\"#ed7953\"],[0.7777777777777778,\"#fb9f3a\"],[0.8888888888888888,\"#fdca26\"],[1.0,\"#f0f921\"]]}],\"contourcarpet\":[{\"type\":\"contourcarpet\",\"colorbar\":{\"outlinewidth\":0,\"ticks\":\"\"}}],\"contour\":[{\"type\":\"contour\",\"colorbar\":{\"outlinewidth\":0,\"ticks\":\"\"},\"colorscale\":[[0.0,\"#0d0887\"],[0.1111111111111111,\"#46039f\"],[0.2222222222222222,\"#7201a8\"],[0.3333333333333333,\"#9c179e\"],[0.4444444444444444,\"#bd3786\"],[0.5555555555555556,\"#d8576b\"],[0.6666666666666666,\"#ed7953\"],[0.7777777777777778,\"#fb9f3a\"],[0.8888888888888888,\"#fdca26\"],[1.0,\"#f0f921\"]]}],\"surface\":[{\"type\":\"surface\",\"colorbar\":{\"outlinewidth\":0,\"ticks\":\"\"},\"colorscale\":[[0.0,\"#0d0887\"],[0.1111111111111111,\"#46039f\"],[0.2222222222222222,\"#7201a8\"],[0.3333333333333333,\"#9c179e\"],[0.4444444444444444,\"#bd3786\"],[0.5555555555555556,\"#d8576b\"],[0.6666666666666666,\"#ed7953\"],[0.7777777777777778,\"#fb9f3a\"],[0.8888888888888888,\"#fdca26\"],[1.0,\"#f0f921\"]]}],\"mesh3d\":[{\"type\":\"mesh3d\",\"colorbar\":{\"outlinewidth\":0,\"ticks\":\"\"}}],\"scatter\":[{\"fillpattern\":{\"fillmode\":\"overlay\",\"size\":10,\"solidity\":0.2},\"type\":\"scatter\"}],\"parcoords\":[{\"type\":\"parcoords\",\"line\":{\"colorbar\":{\"outlinewidth\":0,\"ticks\":\"\"}}}],\"scatterpolargl\":[{\"type\":\"scatterpolargl\",\"marker\":{\"colorbar\":{\"outlinewidth\":0,\"ticks\":\"\"}}}],\"bar\":[{\"error_x\":{\"color\":\"#2a3f5f\"},\"error_y\":{\"color\":\"#2a3f5f\"},\"marker\":{\"line\":{\"color\":\"#E5ECF6\",\"width\":0.5},\"pattern\":{\"fillmode\":\"overlay\",\"size\":10,\"solidity\":0.2}},\"type\":\"bar\"}],\"scattergeo\":[{\"type\":\"scattergeo\",\"marker\":{\"colorbar\":{\"outlinewidth\":0,\"ticks\":\"\"}}}],\"scatterpolar\":[{\"type\":\"scatterpolar\",\"marker\":{\"colorbar\":{\"outlinewidth\":0,\"ticks\":\"\"}}}],\"histogram\":[{\"marker\":{\"pattern\":{\"fillmode\":\"overlay\",\"size\":10,\"solidity\":0.2}},\"type\":\"histogram\"}],\"scattergl\":[{\"type\":\"scattergl\",\"marker\":{\"colorbar\":{\"outlinewidth\":0,\"ticks\":\"\"}}}],\"scatter3d\":[{\"type\":\"scatter3d\",\"line\":{\"colorbar\":{\"outlinewidth\":0,\"ticks\":\"\"}},\"marker\":{\"colorbar\":{\"outlinewidth\":0,\"ticks\":\"\"}}}],\"scattermapbox\":[{\"type\":\"scattermapbox\",\"marker\":{\"colorbar\":{\"outlinewidth\":0,\"ticks\":\"\"}}}],\"scatterternary\":[{\"type\":\"scatterternary\",\"marker\":{\"colorbar\":{\"outlinewidth\":0,\"ticks\":\"\"}}}],\"scattercarpet\":[{\"type\":\"scattercarpet\",\"marker\":{\"colorbar\":{\"outlinewidth\":0,\"ticks\":\"\"}}}],\"carpet\":[{\"aaxis\":{\"endlinecolor\":\"#2a3f5f\",\"gridcolor\":\"white\",\"linecolor\":\"white\",\"minorgridcolor\":\"white\",\"startlinecolor\":\"#2a3f5f\"},\"baxis\":{\"endlinecolor\":\"#2a3f5f\",\"gridcolor\":\"white\",\"linecolor\":\"white\",\"minorgridcolor\":\"white\",\"startlinecolor\":\"#2a3f5f\"},\"type\":\"carpet\"}],\"table\":[{\"cells\":{\"fill\":{\"color\":\"#EBF0F8\"},\"line\":{\"color\":\"white\"}},\"header\":{\"fill\":{\"color\":\"#C8D4E3\"},\"line\":{\"color\":\"white\"}},\"type\":\"table\"}],\"barpolar\":[{\"marker\":{\"line\":{\"color\":\"#E5ECF6\",\"width\":0.5},\"pattern\":{\"fillmode\":\"overlay\",\"size\":10,\"solidity\":0.2}},\"type\":\"barpolar\"}],\"pie\":[{\"automargin\":true,\"type\":\"pie\"}]},\"layout\":{\"autotypenumbers\":\"strict\",\"colorway\":[\"#636efa\",\"#EF553B\",\"#00cc96\",\"#ab63fa\",\"#FFA15A\",\"#19d3f3\",\"#FF6692\",\"#B6E880\",\"#FF97FF\",\"#FECB52\"],\"font\":{\"color\":\"#2a3f5f\"},\"hovermode\":\"closest\",\"hoverlabel\":{\"align\":\"left\"},\"paper_bgcolor\":\"white\",\"plot_bgcolor\":\"#E5ECF6\",\"polar\":{\"bgcolor\":\"#E5ECF6\",\"angularaxis\":{\"gridcolor\":\"white\",\"linecolor\":\"white\",\"ticks\":\"\"},\"radialaxis\":{\"gridcolor\":\"white\",\"linecolor\":\"white\",\"ticks\":\"\"}},\"ternary\":{\"bgcolor\":\"#E5ECF6\",\"aaxis\":{\"gridcolor\":\"white\",\"linecolor\":\"white\",\"ticks\":\"\"},\"baxis\":{\"gridcolor\":\"white\",\"linecolor\":\"white\",\"ticks\":\"\"},\"caxis\":{\"gridcolor\":\"white\",\"linecolor\":\"white\",\"ticks\":\"\"}},\"coloraxis\":{\"colorbar\":{\"outlinewidth\":0,\"ticks\":\"\"}},\"colorscale\":{\"sequential\":[[0.0,\"#0d0887\"],[0.1111111111111111,\"#46039f\"],[0.2222222222222222,\"#7201a8\"],[0.3333333333333333,\"#9c179e\"],[0.4444444444444444,\"#bd3786\"],[0.5555555555555556,\"#d8576b\"],[0.6666666666666666,\"#ed7953\"],[0.7777777777777778,\"#fb9f3a\"],[0.8888888888888888,\"#fdca26\"],[1.0,\"#f0f921\"]],\"sequentialminus\":[[0.0,\"#0d0887\"],[0.1111111111111111,\"#46039f\"],[0.2222222222222222,\"#7201a8\"],[0.3333333333333333,\"#9c179e\"],[0.4444444444444444,\"#bd3786\"],[0.5555555555555556,\"#d8576b\"],[0.6666666666666666,\"#ed7953\"],[0.7777777777777778,\"#fb9f3a\"],[0.8888888888888888,\"#fdca26\"],[1.0,\"#f0f921\"]],\"diverging\":[[0,\"#8e0152\"],[0.1,\"#c51b7d\"],[0.2,\"#de77ae\"],[0.3,\"#f1b6da\"],[0.4,\"#fde0ef\"],[0.5,\"#f7f7f7\"],[0.6,\"#e6f5d0\"],[0.7,\"#b8e186\"],[0.8,\"#7fbc41\"],[0.9,\"#4d9221\"],[1,\"#276419\"]]},\"xaxis\":{\"gridcolor\":\"white\",\"linecolor\":\"white\",\"ticks\":\"\",\"title\":{\"standoff\":15},\"zerolinecolor\":\"white\",\"automargin\":true,\"zerolinewidth\":2},\"yaxis\":{\"gridcolor\":\"white\",\"linecolor\":\"white\",\"ticks\":\"\",\"title\":{\"standoff\":15},\"zerolinecolor\":\"white\",\"automargin\":true,\"zerolinewidth\":2},\"scene\":{\"xaxis\":{\"backgroundcolor\":\"#E5ECF6\",\"gridcolor\":\"white\",\"linecolor\":\"white\",\"showbackground\":true,\"ticks\":\"\",\"zerolinecolor\":\"white\",\"gridwidth\":2},\"yaxis\":{\"backgroundcolor\":\"#E5ECF6\",\"gridcolor\":\"white\",\"linecolor\":\"white\",\"showbackground\":true,\"ticks\":\"\",\"zerolinecolor\":\"white\",\"gridwidth\":2},\"zaxis\":{\"backgroundcolor\":\"#E5ECF6\",\"gridcolor\":\"white\",\"linecolor\":\"white\",\"showbackground\":true,\"ticks\":\"\",\"zerolinecolor\":\"white\",\"gridwidth\":2}},\"shapedefaults\":{\"line\":{\"color\":\"#2a3f5f\"}},\"annotationdefaults\":{\"arrowcolor\":\"#2a3f5f\",\"arrowhead\":0,\"arrowwidth\":1},\"geo\":{\"bgcolor\":\"white\",\"landcolor\":\"#E5ECF6\",\"subunitcolor\":\"white\",\"showland\":true,\"showlakes\":true,\"lakecolor\":\"white\"},\"title\":{\"x\":0.05},\"mapbox\":{\"style\":\"light\"}}},\"xaxis\":{\"anchor\":\"y\",\"domain\":[0.0,1.0],\"title\":{\"text\":\"Category\"},\"categoryorder\":\"array\",\"categoryarray\":[\"Apples\",\"Bananas\",\"Cherries\",\"Dates\"]},\"yaxis\":{\"anchor\":\"x\",\"domain\":[0.0,1.0],\"title\":{\"text\":\"Sales\"}},\"legend\":{\"title\":{\"text\":\"Category\"},\"tracegroupgap\":0},\"title\":{\"text\":\"Fruit Sales\"},\"barmode\":\"relative\"},                        {\"responsive\": true}                    ).then(function(){\n",
              "                            \n",
              "var gd = document.getElementById('a394440b-4455-4751-b651-112ef173631a');\n",
              "var x = new MutationObserver(function (mutations, observer) {{\n",
              "        var display = window.getComputedStyle(gd).display;\n",
              "        if (!display || display === 'none') {{\n",
              "            console.log([gd, 'removed!']);\n",
              "            Plotly.purge(gd);\n",
              "            observer.disconnect();\n",
              "        }}\n",
              "}});\n",
              "\n",
              "// Listen for the removal of the full notebook cells\n",
              "var notebookContainer = gd.closest('#notebook-container');\n",
              "if (notebookContainer) {{\n",
              "    x.observe(notebookContainer, {childList: true});\n",
              "}}\n",
              "\n",
              "// Listen for the clearing of the current output cell\n",
              "var outputEl = gd.closest('.output');\n",
              "if (outputEl) {{\n",
              "    x.observe(outputEl, {childList: true});\n",
              "}}\n",
              "\n",
              "                        })                };                            </script>        </div>\n",
              "</body>\n",
              "</html>"
            ]
          },
          "metadata": {}
        }
      ]
    },
    {
      "cell_type": "markdown",
      "source": [
        "Q.6.\n",
        "\n",
        "Ans\n",
        "\n"
      ],
      "metadata": {
        "id": "aIl2VVvvYW3g"
      }
    },
    {
      "cell_type": "code",
      "source": [
        " # Step 1: Import pandas\n",
        "import pandas as pd\n",
        "\n",
        "# Step 2: Create a sample DataFrame\n",
        "data = {\n",
        "    'Name': ['pooja', 'sourav', 'bhakti', 'soumya'],\n",
        "    'Score': [45, 82, 67, 90]\n",
        "}\n",
        "\n",
        "df = pd.DataFrame(data)\n",
        "\n",
        "# Step 3: Add a new column 'Result' based on 'Score'\n",
        "# If score >= 60, result is 'Pass', else 'Fail'\n",
        "df['Result'] = df['Score'].apply(lambda x: 'Pass' if x >= 60 else 'Fail')\n",
        "\n",
        "# Step 4: Display the DataFrame\n",
        "print(\"Updated DataFrame:\")\n",
        "print(df)\n"
      ],
      "metadata": {
        "colab": {
          "base_uri": "https://localhost:8080/"
        },
        "id": "BDXRQVfkWAJu",
        "outputId": "ff9601b1-cefc-4b02-ce50-8edb00a10f88"
      },
      "execution_count": 8,
      "outputs": [
        {
          "output_type": "stream",
          "name": "stdout",
          "text": [
            "Updated DataFrame:\n",
            "     Name  Score Result\n",
            "0   pooja     45   Fail\n",
            "1  sourav     82   Pass\n",
            "2  bhakti     67   Pass\n",
            "3  soumya     90   Pass\n"
          ]
        }
      ]
    },
    {
      "cell_type": "markdown",
      "source": [
        "Q.7.\n",
        "\n",
        "Ans\n"
      ],
      "metadata": {
        "id": "FdDLDv5jZKnp"
      }
    },
    {
      "cell_type": "code",
      "source": [
        "# Step 1: Import NumPy\n",
        "import numpy as np\n",
        "\n",
        "# Step 2: Define two NumPy arrays\n",
        "array1 = np.array([1, 2, 3, 4])\n",
        "array2 = np.array([10, 20, 30, 40])\n",
        "\n",
        "# Step 3: Perform element-wise multiplication\n",
        "result = array1 * array2\n",
        "\n",
        "# Step 4: Print the input arrays and result\n",
        "print(\"Array 1:\", array1)\n",
        "print(\"Array 2:\", array2)\n",
        "print(\"Element-wise Multiplication Result:\", result)\n"
      ],
      "metadata": {
        "colab": {
          "base_uri": "https://localhost:8080/"
        },
        "id": "wZZTcFeNYsMG",
        "outputId": "e6e56d02-70cc-4720-eb8b-bb1a9c3b2d31"
      },
      "execution_count": 9,
      "outputs": [
        {
          "output_type": "stream",
          "name": "stdout",
          "text": [
            "Array 1: [1 2 3 4]\n",
            "Array 2: [10 20 30 40]\n",
            "Element-wise Multiplication Result: [ 10  40  90 160]\n"
          ]
        }
      ]
    },
    {
      "cell_type": "markdown",
      "source": [
        "Q.8.\n",
        "\n",
        "Ans\n"
      ],
      "metadata": {
        "id": "Y_hYPiZnZSKp"
      }
    },
    {
      "cell_type": "code",
      "source": [
        "# Step 1: Import Matplotlib\n",
        "import matplotlib.pyplot as plt\n",
        "\n",
        "# Step 2: Sample data\n",
        "x = [1, 2, 3, 4, 5]\n",
        "\n",
        "y1 = [2, 4, 6, 8, 10]      # Line 1\n",
        "y2 = [1, 3, 5, 7, 9]       # Line 2\n",
        "y3 = [10, 8, 6, 4, 2]      # Line 3\n",
        "\n",
        "# Step 3: Create line plots\n",
        "plt.figure(figsize=(8, 5))\n",
        "plt.plot(x, y1, label='Line 1 - Doubles', color='blue', marker='o')\n",
        "plt.plot(x, y2, label='Line 2 - Odds', color='green', marker='s')\n",
        "plt.plot(x, y3, label='Line 3 - Descending', color='red', marker='^')\n",
        "\n",
        "# Step 4: Add titles and labels\n",
        "plt.title('Multiple Line Plot')\n",
        "plt.xlabel('X-axis')\n",
        "plt.ylabel('Y-axis')\n",
        "\n",
        "# Step 5: Add legend and grid\n",
        "plt.legend()\n",
        "plt.grid(True)\n",
        "\n",
        "# Step 6: Show plot\n",
        "plt.show()\n"
      ],
      "metadata": {
        "colab": {
          "base_uri": "https://localhost:8080/",
          "height": 487
        },
        "id": "4V5HAUqOZQnO",
        "outputId": "c022ad34-4451-42da-f534-8a10c0a472b6"
      },
      "execution_count": 10,
      "outputs": [
        {
          "output_type": "display_data",
          "data": {
            "text/plain": [
              "<Figure size 800x500 with 1 Axes>"
            ],
            "image/png": "[encoded data removed]"
          },
          "metadata": {}
        }
      ]
    },
    {
      "cell_type": "markdown",
      "source": [
        "Q.9.\n",
        "\n",
        "Ans\n"
      ],
      "metadata": {
        "id": "LX48wvmqZ6HM"
      }
    },
    {
      "cell_type": "code",
      "source": [
        "# Step 1: Import pandas\n",
        "import pandas as pd\n",
        "\n",
        "# Step 2: Create sample DataFrame\n",
        "data = {\n",
        "    'Name': ['pooja', 'sourav', 'bhakti', 'soumya', 'rashi'],\n",
        "    'Score': [45, 82, 67, 90, 55]\n",
        "}\n",
        "\n",
        "df = pd.DataFrame(data)\n",
        "\n",
        "# Step 3: Define threshold\n",
        "threshold = 60\n",
        "\n",
        "# Step 4: Filter rows where 'Score' > threshold\n",
        "filtered_df = df[df['Score'] > threshold]\n",
        "\n",
        "# Step 5: Display original and filtered DataFrames\n",
        "print(\"Original DataFrame:\")\n",
        "print(df)\n",
        "\n",
        "print(\"\\nFiltered DataFrame (Score > 60):\")\n",
        "print(filtered_df)\n"
      ],
      "metadata": {
        "colab": {
          "base_uri": "https://localhost:8080/"
        },
        "id": "i7lgL09SZ4ZD",
        "outputId": "3dcd7b47-f623-4a19-9e5b-6eb0894b7ca3"
      },
      "execution_count": 13,
      "outputs": [
        {
          "output_type": "stream",
          "name": "stdout",
          "text": [
            "Original DataFrame:\n",
            "     Name  Score\n",
            "0   pooja     45\n",
            "1  sourav     82\n",
            "2  bhakti     67\n",
            "3  soumya     90\n",
            "4   rashi     55\n",
            "\n",
            "Filtered DataFrame (Score > 60):\n",
            "     Name  Score\n",
            "1  sourav     82\n",
            "2  bhakti     67\n",
            "3  soumya     90\n"
          ]
        }
      ]
    },
    {
      "cell_type": "markdown",
      "source": [
        "Q.10.\n",
        "\n",
        "Ans\n"
      ],
      "metadata": {
        "id": "KDXNuI7Laky8"
      }
    },
    {
      "cell_type": "code",
      "source": [
        "# Step 1: Import necessary libraries\n",
        "import seaborn as sns\n",
        "import matplotlib.pyplot as plt\n",
        "import pandas as pd\n",
        "\n",
        "# Step 2: Create sample data\n",
        "data = {\n",
        "    'Scores': [55, 60, 65, 70, 75, 80, 85, 90, 92, 95, 100, 60, 70, 85, 90, 95, 100]\n",
        "}\n",
        "\n",
        "df = pd.DataFrame(data)\n",
        "\n",
        "# Step 3: Create histogram using seaborn\n",
        "plt.figure(figsize=(8, 5))\n",
        "sns.histplot(df['Scores'], bins=8, kde=True, color='skyblue')\n",
        "\n",
        "# Step 4: Add titles and labels\n",
        "plt.title('Score Distribution Histogram')\n",
        "plt.xlabel('Scores')\n",
        "plt.ylabel('Frequency')\n",
        "\n",
        "# Step 5: Show plot\n",
        "plt.grid(True)\n",
        "plt.show()\n"
      ],
      "metadata": {
        "colab": {
          "base_uri": "https://localhost:8080/",
          "height": 487
        },
        "id": "xPr6ZPdCaKn0",
        "outputId": "99f5e458-e459-4e9a-9e3a-ccf6804d88dc"
      },
      "execution_count": 14,
      "outputs": [
        {
          "output_type": "display_data",
          "data": {
            "text/plain": [
              "<Figure size 800x500 with 1 Axes>"
            ],
            "image/png": "[encoded data removed]"
          },
          "metadata": {}
        }
      ]
    },
    {
      "cell_type": "markdown",
      "source": [
        "Q.11.\n",
        "\n",
        "Ans"
      ],
      "metadata": {
        "id": "wjBajT18a89R"
      }
    },
    {
      "cell_type": "code",
      "source": [
        "# Step 1: Import NumPy\n",
        "import numpy as np\n",
        "\n",
        "# Step 2: Define two matrices\n",
        "A = np.array([[1, 2],\n",
        "              [3, 4]])\n",
        "\n",
        "B = np.array([[5, 6],\n",
        "              [7, 8]])\n",
        "\n",
        "# Step 3: Perform matrix multiplication\n",
        "result = np.dot(A, B)\n",
        "# Alternatively: result = A @ B\n",
        "\n",
        "# Step 4: Display the input and output\n",
        "print(\"Matrix A:\")\n",
        "print(A)\n",
        "\n",
        "print(\"\\nMatrix B:\")\n",
        "print(B)\n",
        "\n",
        "print(\"\\nMatrix Multiplication Result (A * B):\")\n",
        "print(result)\n"
      ],
      "metadata": {
        "colab": {
          "base_uri": "https://localhost:8080/"
        },
        "id": "vjvTZXrIa6sl",
        "outputId": "819f44c6-0d28-4805-9542-8a17a9b57fe3"
      },
      "execution_count": 15,
      "outputs": [
        {
          "output_type": "stream",
          "name": "stdout",
          "text": [
            "Matrix A:\n",
            "[[1 2]\n",
            " [3 4]]\n",
            "\n",
            "Matrix B:\n",
            "[[5 6]\n",
            " [7 8]]\n",
            "\n",
            "Matrix Multiplication Result (A * B):\n",
            "[[19 22]\n",
            " [43 50]]\n"
          ]
        }
      ]
    },
    {
      "cell_type": "markdown",
      "source": [
        "Q.12.\n",
        "\n",
        "Ans\n"
      ],
      "metadata": {
        "id": "hdgqB6m1bRvt"
      }
    },
    {
      "cell_type": "code",
      "source": [
        "\n",
        "import pandas as pd\n",
        "\n",
        "# Load the CSV file from the /tmp directory\n",
        "df = pd.read_csv('/tmp/california_housing_test.csv')\n",
        "print(df.head())"
      ],
      "metadata": {
        "colab": {
          "base_uri": "https://localhost:8080/"
        },
        "id": "Dz8KYC3vcKIb",
        "outputId": "ae325904-0c95-4277-e1aa-5fa450a24eef"
      },
      "execution_count": 34,
      "outputs": [
        {
          "output_type": "stream",
          "name": "stdout",
          "text": [
            "   col1 col2\n",
            "0     1    A\n",
            "1     2    B\n",
            "2     3    C\n",
            "3     4    D\n",
            "4     5    E\n"
          ]
        }
      ]
    },
    {
      "cell_type": "markdown",
      "source": [
        "Q.13.\n",
        "\n",
        "Ans\n"
      ],
      "metadata": {
        "id": "ge9LzmhBl1aN"
      }
    },
    {
      "cell_type": "code",
      "source": [
        "# Step 1: Install plotly (if not already installed)\n",
        "!pip install plotly\n",
        "\n",
        "# Step 2: Import required libraries\n",
        "import plotly.express as px\n",
        "import pandas as pd\n",
        "\n",
        "# Step 3: Create sample 3D data\n",
        "data = {\n",
        "    'X': [1, 2, 3, 4, 5],\n",
        "    'Y': [10, 11, 12, 13, 14],\n",
        "    'Z': [5, 4, 3, 2, 1],\n",
        "    'Category': ['A', 'B', 'A', 'B', 'A']\n",
        "}\n",
        "\n",
        "df = pd.DataFrame(data)\n",
        "\n",
        "# Step 4: Create 3D scatter plot\n",
        "fig = px.scatter_3d(df, x='X', y='Y', z='Z',\n",
        "                    color='Category',\n",
        "                    title='3D Scatter Plot with Plotly',\n",
        "                    size_max=10)\n",
        "\n",
        "# Step 5: Show the plot\n",
        "fig.show()\n"
      ],
      "metadata": {
        "colab": {
          "base_uri": "https://localhost:8080/",
          "height": 594
        },
        "id": "XHbxU-IKlJ_z",
        "outputId": "9aebad61-45a1-4f0f-d309-df7cec0255f9"
      },
      "execution_count": 35,
      "outputs": [
        {
          "output_type": "stream",
          "name": "stdout",
          "text": [
            "Requirement already satisfied: plotly in /usr/local/lib/python3.12/dist-packages (5.24.1)\n",
            "Requirement already satisfied: tenacity>=6.2.0 in /usr/local/lib/python3.12/dist-packages (from plotly) (9.1.2)\n",
            "Requirement already satisfied: packaging in /usr/local/lib/python3.12/dist-packages (from plotly) (25.0)\n"
          ]
        },
        {
          "output_type": "display_data",
          "data": {
            "text/html": [
              "<html>\n",
              "<head><meta charset=\"utf-8\" /></head>\n",
              "<body>\n",
              "    <div>            <script src=\"https://cdnjs.cloudflare.com/ajax/libs/mathjax/2.7.5/MathJax.js?config=TeX-AMS-MML_SVG\"></script><script type=\"text/javascript\">if (window.MathJax && window.MathJax.Hub && window.MathJax.Hub.Config) {window.MathJax.Hub.Config({SVG: {font: \"STIX-Web\"}});}</script>                <script type=\"text/javascript\">window.PlotlyConfig = {MathJaxConfig: 'local'};</script>\n",
              "        <script charset=\"utf-8\" src=\"https://cdn.plot.ly/plotly-2.35.2.min.js\"></script>                <div id=\"fff80607-cdb0-4e84-a4d0-35ae0dcb42df\" class=\"plotly-graph-div\" style=\"height:525px; width:100%;\"></div>            <script type=\"text/javascript\">                                    window.PLOTLYENV=window.PLOTLYENV || {};                                    if (document.getElementById(\"fff80607-cdb0-4e84-a4d0-35ae0dcb42df\")) {                    Plotly.newPlot(                        \"fff80607-cdb0-4e84-a4d0-35ae0dcb42df\",                        [{\"hovertemplate\":\"Category=A\\u003cbr\\u003eX=%{x}\\u003cbr\\u003eY=%{y}\\u003cbr\\u003eZ=%{z}\\u003cextra\\u003e\\u003c\\u002fextra\\u003e\",\"legendgroup\":\"A\",\"marker\":{\"color\":\"#636efa\",\"symbol\":\"circle\"},\"mode\":\"markers\",\"name\":\"A\",\"scene\":\"scene\",\"showlegend\":true,\"x\":[1,3,5],\"y\":[10,12,14],\"z\":[5,3,1],\"type\":\"scatter3d\"},{\"hovertemplate\":\"Category=B\\u003cbr\\u003eX=%{x}\\u003cbr\\u003eY=%{y}\\u003cbr\\u003eZ=%{z}\\u003cextra\\u003e\\u003c\\u002fextra\\u003e\",\"legendgroup\":\"B\",\"marker\":{\"color\":\"#EF553B\",\"symbol\":\"circle\"},\"mode\":\"markers\",\"name\":\"B\",\"scene\":\"scene\",\"showlegend\":true,\"x\":[2,4],\"y\":[11,13],\"z\":[4,2],\"type\":\"scatter3d\"}],                        {\"template\":{\"data\":{\"histogram2dcontour\":[{\"type\":\"histogram2dcontour\",\"colorbar\":{\"outlinewidth\":0,\"ticks\":\"\"},\"colorscale\":[[0.0,\"#0d0887\"],[0.1111111111111111,\"#46039f\"],[0.2222222222222222,\"#7201a8\"],[0.3333333333333333,\"#9c179e\"],[0.4444444444444444,\"#bd3786\"],[0.5555555555555556,\"#d8576b\"],[0.6666666666666666,\"#ed7953\"],[0.7777777777777778,\"#fb9f3a\"],[0.8888888888888888,\"#fdca26\"],[1.0,\"#f0f921\"]]}],\"choropleth\":[{\"type\":\"choropleth\",\"colorbar\":{\"outlinewidth\":0,\"ticks\":\"\"}}],\"histogram2d\":[{\"type\":\"histogram2d\",\"colorbar\":{\"outlinewidth\":0,\"ticks\":\"\"},\"colorscale\":[[0.0,\"#0d0887\"],[0.1111111111111111,\"#46039f\"],[0.2222222222222222,\"#7201a8\"],[0.3333333333333333,\"#9c179e\"],[0.4444444444444444,\"#bd3786\"],[0.5555555555555556,\"#d8576b\"],[0.6666666666666666,\"#ed7953\"],[0.7777777777777778,\"#fb9f3a\"],[0.8888888888888888,\"#fdca26\"],[1.0,\"#f0f921\"]]}],\"heatmap\":[{\"type\":\"heatmap\",\"colorbar\":{\"outlinewidth\":0,\"ticks\":\"\"},\"colorscale\":[[0.0,\"#0d0887\"],[0.1111111111111111,\"#46039f\"],[0.2222222222222222,\"#7201a8\"],[0.3333333333333333,\"#9c179e\"],[0.4444444444444444,\"#bd3786\"],[0.5555555555555556,\"#d8576b\"],[0.6666666666666666,\"#ed7953\"],[0.7777777777777778,\"#fb9f3a\"],[0.8888888888888888,\"#fdca26\"],[1.0,\"#f0f921\"]]}],\"heatmapgl\":[{\"type\":\"heatmapgl\",\"colorbar\":{\"outlinewidth\":0,\"ticks\":\"\"},\"colorscale\":[[0.0,\"#0d0887\"],[0.1111111111111111,\"#46039f\"],[0.2222222222222222,\"#7201a8\"],[0.3333333333333333,\"#9c179e\"],[0.4444444444444444,\"#bd3786\"],[0.5555555555555556,\"#d8576b\"],[0.6666666666666666,\"#ed7953\"],[0.7777777777777778,\"#fb9f3a\"],[0.8888888888888888,\"#fdca26\"],[1.0,\"#f0f921\"]]}],\"contourcarpet\":[{\"type\":\"contourcarpet\",\"colorbar\":{\"outlinewidth\":0,\"ticks\":\"\"}}],\"contour\":[{\"type\":\"contour\",\"colorbar\":{\"outlinewidth\":0,\"ticks\":\"\"},\"colorscale\":[[0.0,\"#0d0887\"],[0.1111111111111111,\"#46039f\"],[0.2222222222222222,\"#7201a8\"],[0.3333333333333333,\"#9c179e\"],[0.4444444444444444,\"#bd3786\"],[0.5555555555555556,\"#d8576b\"],[0.6666666666666666,\"#ed7953\"],[0.7777777777777778,\"#fb9f3a\"],[0.8888888888888888,\"#fdca26\"],[1.0,\"#f0f921\"]]}],\"surface\":[{\"type\":\"surface\",\"colorbar\":{\"outlinewidth\":0,\"ticks\":\"\"},\"colorscale\":[[0.0,\"#0d0887\"],[0.1111111111111111,\"#46039f\"],[0.2222222222222222,\"#7201a8\"],[0.3333333333333333,\"#9c179e\"],[0.4444444444444444,\"#bd3786\"],[0.5555555555555556,\"#d8576b\"],[0.6666666666666666,\"#ed7953\"],[0.7777777777777778,\"#fb9f3a\"],[0.8888888888888888,\"#fdca26\"],[1.0,\"#f0f921\"]]}],\"mesh3d\":[{\"type\":\"mesh3d\",\"colorbar\":{\"outlinewidth\":0,\"ticks\":\"\"}}],\"scatter\":[{\"fillpattern\":{\"fillmode\":\"overlay\",\"size\":10,\"solidity\":0.2},\"type\":\"scatter\"}],\"parcoords\":[{\"type\":\"parcoords\",\"line\":{\"colorbar\":{\"outlinewidth\":0,\"ticks\":\"\"}}}],\"scatterpolargl\":[{\"type\":\"scatterpolargl\",\"marker\":{\"colorbar\":{\"outlinewidth\":0,\"ticks\":\"\"}}}],\"bar\":[{\"error_x\":{\"color\":\"#2a3f5f\"},\"error_y\":{\"color\":\"#2a3f5f\"},\"marker\":{\"line\":{\"color\":\"#E5ECF6\",\"width\":0.5},\"pattern\":{\"fillmode\":\"overlay\",\"size\":10,\"solidity\":0.2}},\"type\":\"bar\"}],\"scattergeo\":[{\"type\":\"scattergeo\",\"marker\":{\"colorbar\":{\"outlinewidth\":0,\"ticks\":\"\"}}}],\"scatterpolar\":[{\"type\":\"scatterpolar\",\"marker\":{\"colorbar\":{\"outlinewidth\":0,\"ticks\":\"\"}}}],\"histogram\":[{\"marker\":{\"pattern\":{\"fillmode\":\"overlay\",\"size\":10,\"solidity\":0.2}},\"type\":\"histogram\"}],\"scattergl\":[{\"type\":\"scattergl\",\"marker\":{\"colorbar\":{\"outlinewidth\":0,\"ticks\":\"\"}}}],\"scatter3d\":[{\"type\":\"scatter3d\",\"line\":{\"colorbar\":{\"outlinewidth\":0,\"ticks\":\"\"}},\"marker\":{\"colorbar\":{\"outlinewidth\":0,\"ticks\":\"\"}}}],\"scattermapbox\":[{\"type\":\"scattermapbox\",\"marker\":{\"colorbar\":{\"outlinewidth\":0,\"ticks\":\"\"}}}],\"scatterternary\":[{\"type\":\"scatterternary\",\"marker\":{\"colorbar\":{\"outlinewidth\":0,\"ticks\":\"\"}}}],\"scattercarpet\":[{\"type\":\"scattercarpet\",\"marker\":{\"colorbar\":{\"outlinewidth\":0,\"ticks\":\"\"}}}],\"carpet\":[{\"aaxis\":{\"endlinecolor\":\"#2a3f5f\",\"gridcolor\":\"white\",\"linecolor\":\"white\",\"minorgridcolor\":\"white\",\"startlinecolor\":\"#2a3f5f\"},\"baxis\":{\"endlinecolor\":\"#2a3f5f\",\"gridcolor\":\"white\",\"linecolor\":\"white\",\"minorgridcolor\":\"white\",\"startlinecolor\":\"#2a3f5f\"},\"type\":\"carpet\"}],\"table\":[{\"cells\":{\"fill\":{\"color\":\"#EBF0F8\"},\"line\":{\"color\":\"white\"}},\"header\":{\"fill\":{\"color\":\"#C8D4E3\"},\"line\":{\"color\":\"white\"}},\"type\":\"table\"}],\"barpolar\":[{\"marker\":{\"line\":{\"color\":\"#E5ECF6\",\"width\":0.5},\"pattern\":{\"fillmode\":\"overlay\",\"size\":10,\"solidity\":0.2}},\"type\":\"barpolar\"}],\"pie\":[{\"automargin\":true,\"type\":\"pie\"}]},\"layout\":{\"autotypenumbers\":\"strict\",\"colorway\":[\"#636efa\",\"#EF553B\",\"#00cc96\",\"#ab63fa\",\"#FFA15A\",\"#19d3f3\",\"#FF6692\",\"#B6E880\",\"#FF97FF\",\"#FECB52\"],\"font\":{\"color\":\"#2a3f5f\"},\"hovermode\":\"closest\",\"hoverlabel\":{\"align\":\"left\"},\"paper_bgcolor\":\"white\",\"plot_bgcolor\":\"#E5ECF6\",\"polar\":{\"bgcolor\":\"#E5ECF6\",\"angularaxis\":{\"gridcolor\":\"white\",\"linecolor\":\"white\",\"ticks\":\"\"},\"radialaxis\":{\"gridcolor\":\"white\",\"linecolor\":\"white\",\"ticks\":\"\"}},\"ternary\":{\"bgcolor\":\"#E5ECF6\",\"aaxis\":{\"gridcolor\":\"white\",\"linecolor\":\"white\",\"ticks\":\"\"},\"baxis\":{\"gridcolor\":\"white\",\"linecolor\":\"white\",\"ticks\":\"\"},\"caxis\":{\"gridcolor\":\"white\",\"linecolor\":\"white\",\"ticks\":\"\"}},\"coloraxis\":{\"colorbar\":{\"outlinewidth\":0,\"ticks\":\"\"}},\"colorscale\":{\"sequential\":[[0.0,\"#0d0887\"],[0.1111111111111111,\"#46039f\"],[0.2222222222222222,\"#7201a8\"],[0.3333333333333333,\"#9c179e\"],[0.4444444444444444,\"#bd3786\"],[0.5555555555555556,\"#d8576b\"],[0.6666666666666666,\"#ed7953\"],[0.7777777777777778,\"#fb9f3a\"],[0.8888888888888888,\"#fdca26\"],[1.0,\"#f0f921\"]],\"sequentialminus\":[[0.0,\"#0d0887\"],[0.1111111111111111,\"#46039f\"],[0.2222222222222222,\"#7201a8\"],[0.3333333333333333,\"#9c179e\"],[0.4444444444444444,\"#bd3786\"],[0.5555555555555556,\"#d8576b\"],[0.6666666666666666,\"#ed7953\"],[0.7777777777777778,\"#fb9f3a\"],[0.8888888888888888,\"#fdca26\"],[1.0,\"#f0f921\"]],\"diverging\":[[0,\"#8e0152\"],[0.1,\"#c51b7d\"],[0.2,\"#de77ae\"],[0.3,\"#f1b6da\"],[0.4,\"#fde0ef\"],[0.5,\"#f7f7f7\"],[0.6,\"#e6f5d0\"],[0.7,\"#b8e186\"],[0.8,\"#7fbc41\"],[0.9,\"#4d9221\"],[1,\"#276419\"]]},\"xaxis\":{\"gridcolor\":\"white\",\"linecolor\":\"white\",\"ticks\":\"\",\"title\":{\"standoff\":15},\"zerolinecolor\":\"white\",\"automargin\":true,\"zerolinewidth\":2},\"yaxis\":{\"gridcolor\":\"white\",\"linecolor\":\"white\",\"ticks\":\"\",\"title\":{\"standoff\":15},\"zerolinecolor\":\"white\",\"automargin\":true,\"zerolinewidth\":2},\"scene\":{\"xaxis\":{\"backgroundcolor\":\"#E5ECF6\",\"gridcolor\":\"white\",\"linecolor\":\"white\",\"showbackground\":true,\"ticks\":\"\",\"zerolinecolor\":\"white\",\"gridwidth\":2},\"yaxis\":{\"backgroundcolor\":\"#E5ECF6\",\"gridcolor\":\"white\",\"linecolor\":\"white\",\"showbackground\":true,\"ticks\":\"\",\"zerolinecolor\":\"white\",\"gridwidth\":2},\"zaxis\":{\"backgroundcolor\":\"#E5ECF6\",\"gridcolor\":\"white\",\"linecolor\":\"white\",\"showbackground\":true,\"ticks\":\"\",\"zerolinecolor\":\"white\",\"gridwidth\":2}},\"shapedefaults\":{\"line\":{\"color\":\"#2a3f5f\"}},\"annotationdefaults\":{\"arrowcolor\":\"#2a3f5f\",\"arrowhead\":0,\"arrowwidth\":1},\"geo\":{\"bgcolor\":\"white\",\"landcolor\":\"#E5ECF6\",\"subunitcolor\":\"white\",\"showland\":true,\"showlakes\":true,\"lakecolor\":\"white\"},\"title\":{\"x\":0.05},\"mapbox\":{\"style\":\"light\"}}},\"scene\":{\"domain\":{\"x\":[0.0,1.0],\"y\":[0.0,1.0]},\"xaxis\":{\"title\":{\"text\":\"X\"}},\"yaxis\":{\"title\":{\"text\":\"Y\"}},\"zaxis\":{\"title\":{\"text\":\"Z\"}}},\"legend\":{\"title\":{\"text\":\"Category\"},\"tracegroupgap\":0},\"title\":{\"text\":\"3D Scatter Plot with Plotly\"}},                        {\"responsive\": true}                    ).then(function(){\n",
              "                            \n",
              "var gd = document.getElementById('fff80607-cdb0-4e84-a4d0-35ae0dcb42df');\n",
              "var x = new MutationObserver(function (mutations, observer) {{\n",
              "        var display = window.getComputedStyle(gd).display;\n",
              "        if (!display || display === 'none') {{\n",
              "            console.log([gd, 'removed!']);\n",
              "            Plotly.purge(gd);\n",
              "            observer.disconnect();\n",
              "        }}\n",
              "}});\n",
              "\n",
              "// Listen for the removal of the full notebook cells\n",
              "var notebookContainer = gd.closest('#notebook-container');\n",
              "if (notebookContainer) {{\n",
              "    x.observe(notebookContainer, {childList: true});\n",
              "}}\n",
              "\n",
              "// Listen for the clearing of the current output cell\n",
              "var outputEl = gd.closest('.output');\n",
              "if (outputEl) {{\n",
              "    x.observe(outputEl, {childList: true});\n",
              "}}\n",
              "\n",
              "                        })                };                            </script>        </div>\n",
              "</body>\n",
              "</html>"
            ]
          },
          "metadata": {}
        }
      ]
    },
    {
      "cell_type": "code",
      "source": [],
      "metadata": {
        "id": "IpFZqvNQmQIK"
      },
      "execution_count": null,
      "outputs": []
    }
  ]
}